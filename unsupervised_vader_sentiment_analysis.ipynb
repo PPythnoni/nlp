{
  "nbformat": 4,
  "nbformat_minor": 0,
  "metadata": {
    "colab": {
      "name": "unsupervised_vader_sentiment_analysis.ipynb",
      "provenance": [],
      "authorship_tag": "ABX9TyN6uE28Z6LdddJtHl2b9ECP",
      "include_colab_link": true
    },
    "kernelspec": {
      "name": "python3",
      "display_name": "Python 3"
    }
  },
  "cells": [
    {
      "cell_type": "markdown",
      "metadata": {
        "id": "view-in-github",
        "colab_type": "text"
      },
      "source": [
        "<a href=\"https://colab.research.google.com/github/PPythnoni/nlp/blob/master/unsupervised_vader_sentiment_analysis.ipynb\" target=\"_parent\"><img src=\"https://colab.research.google.com/assets/colab-badge.svg\" alt=\"Open In Colab\"/></a>"
      ]
    },
    {
      "cell_type": "code",
      "metadata": {
        "colab": {
          "base_uri": "https://localhost:8080/"
        },
        "id": "KAjfL0GXgdlC",
        "outputId": "7bee55ff-43d3-4c05-f06e-28f303150da9"
      },
      "source": [
        "import nltk\n",
        "nltk.download('vader_lexicon')\n",
        "import pandas as pd\n",
        "from nltk.sentiment.vader import SentimentIntensityAnalyzer\n",
        "from sklearn.metrics import accuracy_score,classification_report,confusion_matrix\n",
        "import seaborn as sn\n",
        "import numpy as np\n",
        "import matplotlib.pyplot as plt\n",
        "\n"
      ],
      "execution_count": 116,
      "outputs": [
        {
          "output_type": "stream",
          "text": [
            "[nltk_data] Downloading package vader_lexicon to /root/nltk_data...\n",
            "[nltk_data]   Package vader_lexicon is already up-to-date!\n"
          ],
          "name": "stdout"
        }
      ]
    },
    {
      "cell_type": "code",
      "metadata": {
        "colab": {
          "base_uri": "https://localhost:8080/",
          "height": 204
        },
        "id": "Go7NbqSMg0eE",
        "outputId": "1a67298b-ff6e-426d-830d-fd567492224e"
      },
      "source": [
        "data = pd.read_csv(\"/content/tripadvisor_hotel_reviews.csv\")\n",
        "data.head()"
      ],
      "execution_count": 95,
      "outputs": [
        {
          "output_type": "execute_result",
          "data": {
            "text/html": [
              "<div>\n",
              "<style scoped>\n",
              "    .dataframe tbody tr th:only-of-type {\n",
              "        vertical-align: middle;\n",
              "    }\n",
              "\n",
              "    .dataframe tbody tr th {\n",
              "        vertical-align: top;\n",
              "    }\n",
              "\n",
              "    .dataframe thead th {\n",
              "        text-align: right;\n",
              "    }\n",
              "</style>\n",
              "<table border=\"1\" class=\"dataframe\">\n",
              "  <thead>\n",
              "    <tr style=\"text-align: right;\">\n",
              "      <th></th>\n",
              "      <th>Review</th>\n",
              "      <th>Rating</th>\n",
              "    </tr>\n",
              "  </thead>\n",
              "  <tbody>\n",
              "    <tr>\n",
              "      <th>0</th>\n",
              "      <td>nice hotel expensive parking got good deal sta...</td>\n",
              "      <td>4</td>\n",
              "    </tr>\n",
              "    <tr>\n",
              "      <th>1</th>\n",
              "      <td>ok nothing special charge diamond member hilto...</td>\n",
              "      <td>2</td>\n",
              "    </tr>\n",
              "    <tr>\n",
              "      <th>2</th>\n",
              "      <td>nice rooms not 4* experience hotel monaco seat...</td>\n",
              "      <td>3</td>\n",
              "    </tr>\n",
              "    <tr>\n",
              "      <th>3</th>\n",
              "      <td>unique, great stay, wonderful time hotel monac...</td>\n",
              "      <td>5</td>\n",
              "    </tr>\n",
              "    <tr>\n",
              "      <th>4</th>\n",
              "      <td>great stay great stay, went seahawk game aweso...</td>\n",
              "      <td>5</td>\n",
              "    </tr>\n",
              "  </tbody>\n",
              "</table>\n",
              "</div>"
            ],
            "text/plain": [
              "                                              Review  Rating\n",
              "0  nice hotel expensive parking got good deal sta...       4\n",
              "1  ok nothing special charge diamond member hilto...       2\n",
              "2  nice rooms not 4* experience hotel monaco seat...       3\n",
              "3  unique, great stay, wonderful time hotel monac...       5\n",
              "4  great stay great stay, went seahawk game aweso...       5"
            ]
          },
          "metadata": {
            "tags": []
          },
          "execution_count": 95
        }
      ]
    },
    {
      "cell_type": "code",
      "metadata": {
        "colab": {
          "base_uri": "https://localhost:8080/"
        },
        "id": "MKvhGm9KhQXe",
        "outputId": "7b9f0fff-7e5b-4ad4-91ae-972df0ac75d5"
      },
      "source": [
        "data.shape"
      ],
      "execution_count": 96,
      "outputs": [
        {
          "output_type": "execute_result",
          "data": {
            "text/plain": [
              "(20491, 2)"
            ]
          },
          "metadata": {
            "tags": []
          },
          "execution_count": 96
        }
      ]
    },
    {
      "cell_type": "code",
      "metadata": {
        "colab": {
          "base_uri": "https://localhost:8080/"
        },
        "id": "4OBOWt9zhTpj",
        "outputId": "2046162d-adab-4481-c10a-9d9c9405c797"
      },
      "source": [
        "data[\"Rating\"].value_counts()"
      ],
      "execution_count": 97,
      "outputs": [
        {
          "output_type": "execute_result",
          "data": {
            "text/plain": [
              "5    9054\n",
              "4    6039\n",
              "3    2184\n",
              "2    1793\n",
              "1    1421\n",
              "Name: Rating, dtype: int64"
            ]
          },
          "metadata": {
            "tags": []
          },
          "execution_count": 97
        }
      ]
    },
    {
      "cell_type": "code",
      "metadata": {
        "colab": {
          "base_uri": "https://localhost:8080/"
        },
        "id": "fLYy0W-4pkCy",
        "outputId": "b20a0dff-a947-4408-c216-0006f69c66d4"
      },
      "source": [
        "data.isnull().sum()"
      ],
      "execution_count": 98,
      "outputs": [
        {
          "output_type": "execute_result",
          "data": {
            "text/plain": [
              "Review    0\n",
              "Rating    0\n",
              "dtype: int64"
            ]
          },
          "metadata": {
            "tags": []
          },
          "execution_count": 98
        }
      ]
    },
    {
      "cell_type": "code",
      "metadata": {
        "colab": {
          "base_uri": "https://localhost:8080/"
        },
        "id": "DyzlriTLpl5e",
        "outputId": "a79c84d5-8112-4a0f-9702-cadd486c2519"
      },
      "source": [
        "#blanks?\n",
        "blanks = []\n",
        "\n",
        "for ind,rev,lb in data.itertuples(): \n",
        "    if type(rev)==str:            \n",
        "        if rev.isspace():         \n",
        "            blanks.append(ind)     \n",
        "blanks"
      ],
      "execution_count": 99,
      "outputs": [
        {
          "output_type": "execute_result",
          "data": {
            "text/plain": [
              "[]"
            ]
          },
          "metadata": {
            "tags": []
          },
          "execution_count": 99
        }
      ]
    },
    {
      "cell_type": "code",
      "metadata": {
        "id": "qJP1sgTPhfHy"
      },
      "source": [
        "#elimitate 65% of 5s and 4s at random for balance\n",
        "data1 = data.drop(data.query('Rating == 5').sample(frac=.65).index)"
      ],
      "execution_count": 100,
      "outputs": []
    },
    {
      "cell_type": "code",
      "metadata": {
        "colab": {
          "base_uri": "https://localhost:8080/"
        },
        "id": "v64fNgPkl6Ds",
        "outputId": "a4486030-8334-479c-c1c9-67656c22a0cd"
      },
      "source": [
        "data1[\"Rating\"].value_counts()"
      ],
      "execution_count": 101,
      "outputs": [
        {
          "output_type": "execute_result",
          "data": {
            "text/plain": [
              "4    6039\n",
              "5    3169\n",
              "3    2184\n",
              "2    1793\n",
              "1    1421\n",
              "Name: Rating, dtype: int64"
            ]
          },
          "metadata": {
            "tags": []
          },
          "execution_count": 101
        }
      ]
    },
    {
      "cell_type": "code",
      "metadata": {
        "id": "-5UR2ivvkPXf"
      },
      "source": [
        "data_b = data1.drop(data1.query('Rating == 4').sample(frac=.65).index)"
      ],
      "execution_count": 102,
      "outputs": []
    },
    {
      "cell_type": "code",
      "metadata": {
        "colab": {
          "base_uri": "https://localhost:8080/"
        },
        "id": "8tuswaojqT6Y",
        "outputId": "14b41e85-9e5a-474d-93ab-eca28601624b"
      },
      "source": [
        "data_b[\"Rating\"].value_counts()"
      ],
      "execution_count": 103,
      "outputs": [
        {
          "output_type": "execute_result",
          "data": {
            "text/plain": [
              "5    3169\n",
              "3    2184\n",
              "4    2114\n",
              "2    1793\n",
              "1    1421\n",
              "Name: Rating, dtype: int64"
            ]
          },
          "metadata": {
            "tags": []
          },
          "execution_count": 103
        }
      ]
    },
    {
      "cell_type": "code",
      "metadata": {
        "id": "ISsAM6IeqhM9"
      },
      "source": [
        "#mapping \n",
        "mapper = {1:\"neg\",2:\"neg\",3:\"neg\",4:\"pos\",5:\"pos\"}\n",
        "data_b[\"Rating\"] = data_b[\"Rating\"].map(mapper)"
      ],
      "execution_count": 104,
      "outputs": []
    },
    {
      "cell_type": "code",
      "metadata": {
        "colab": {
          "base_uri": "https://localhost:8080/",
          "height": 204
        },
        "id": "1pLHvbhnqwzz",
        "outputId": "aae77829-8af3-439a-c194-f25167865339"
      },
      "source": [
        "data_b.head()"
      ],
      "execution_count": 105,
      "outputs": [
        {
          "output_type": "execute_result",
          "data": {
            "text/html": [
              "<div>\n",
              "<style scoped>\n",
              "    .dataframe tbody tr th:only-of-type {\n",
              "        vertical-align: middle;\n",
              "    }\n",
              "\n",
              "    .dataframe tbody tr th {\n",
              "        vertical-align: top;\n",
              "    }\n",
              "\n",
              "    .dataframe thead th {\n",
              "        text-align: right;\n",
              "    }\n",
              "</style>\n",
              "<table border=\"1\" class=\"dataframe\">\n",
              "  <thead>\n",
              "    <tr style=\"text-align: right;\">\n",
              "      <th></th>\n",
              "      <th>Review</th>\n",
              "      <th>Rating</th>\n",
              "    </tr>\n",
              "  </thead>\n",
              "  <tbody>\n",
              "    <tr>\n",
              "      <th>1</th>\n",
              "      <td>ok nothing special charge diamond member hilto...</td>\n",
              "      <td>neg</td>\n",
              "    </tr>\n",
              "    <tr>\n",
              "      <th>2</th>\n",
              "      <td>nice rooms not 4* experience hotel monaco seat...</td>\n",
              "      <td>neg</td>\n",
              "    </tr>\n",
              "    <tr>\n",
              "      <th>3</th>\n",
              "      <td>unique, great stay, wonderful time hotel monac...</td>\n",
              "      <td>pos</td>\n",
              "    </tr>\n",
              "    <tr>\n",
              "      <th>4</th>\n",
              "      <td>great stay great stay, went seahawk game aweso...</td>\n",
              "      <td>pos</td>\n",
              "    </tr>\n",
              "    <tr>\n",
              "      <th>10</th>\n",
              "      <td>poor value stayed monaco seattle july, nice ho...</td>\n",
              "      <td>neg</td>\n",
              "    </tr>\n",
              "  </tbody>\n",
              "</table>\n",
              "</div>"
            ],
            "text/plain": [
              "                                               Review Rating\n",
              "1   ok nothing special charge diamond member hilto...    neg\n",
              "2   nice rooms not 4* experience hotel monaco seat...    neg\n",
              "3   unique, great stay, wonderful time hotel monac...    pos\n",
              "4   great stay great stay, went seahawk game aweso...    pos\n",
              "10  poor value stayed monaco seattle july, nice ho...    neg"
            ]
          },
          "metadata": {
            "tags": []
          },
          "execution_count": 105
        }
      ]
    },
    {
      "cell_type": "code",
      "metadata": {
        "colab": {
          "base_uri": "https://localhost:8080/"
        },
        "id": "L38bKDjvq9D4",
        "outputId": "2ab98546-1671-474f-9b95-f24ac24f7545"
      },
      "source": [
        "data_b[\"Rating\"].value_counts()"
      ],
      "execution_count": 106,
      "outputs": [
        {
          "output_type": "execute_result",
          "data": {
            "text/plain": [
              "neg    5398\n",
              "pos    5283\n",
              "Name: Rating, dtype: int64"
            ]
          },
          "metadata": {
            "tags": []
          },
          "execution_count": 106
        }
      ]
    },
    {
      "cell_type": "code",
      "metadata": {
        "id": "wTWSoDDDqZlG"
      },
      "source": [
        "sid = SentimentIntensityAnalyzer()"
      ],
      "execution_count": 108,
      "outputs": []
    },
    {
      "cell_type": "code",
      "metadata": {
        "id": "sbKDbFOFrE-W"
      },
      "source": [
        "data_b['scores'] = data_b['Review'].apply(lambda review: sid.polarity_scores(review))\n",
        "\n",
        "data_b['compound'] = data_b['scores'].apply(lambda score_dict: score_dict['compound'])\n",
        "\n",
        "data_b['comp_score'] = data_b['compound'].apply(lambda c: 'pos' if c >=0.8 else 'neg')"
      ],
      "execution_count": 110,
      "outputs": []
    },
    {
      "cell_type": "code",
      "metadata": {
        "colab": {
          "base_uri": "https://localhost:8080/",
          "height": 204
        },
        "id": "ov6hvwoEq4F7",
        "outputId": "cdf51f36-b6a2-4f68-e869-04fd9c7ee429"
      },
      "source": [
        "data_b.head()"
      ],
      "execution_count": 111,
      "outputs": [
        {
          "output_type": "execute_result",
          "data": {
            "text/html": [
              "<div>\n",
              "<style scoped>\n",
              "    .dataframe tbody tr th:only-of-type {\n",
              "        vertical-align: middle;\n",
              "    }\n",
              "\n",
              "    .dataframe tbody tr th {\n",
              "        vertical-align: top;\n",
              "    }\n",
              "\n",
              "    .dataframe thead th {\n",
              "        text-align: right;\n",
              "    }\n",
              "</style>\n",
              "<table border=\"1\" class=\"dataframe\">\n",
              "  <thead>\n",
              "    <tr style=\"text-align: right;\">\n",
              "      <th></th>\n",
              "      <th>Review</th>\n",
              "      <th>Rating</th>\n",
              "      <th>scores</th>\n",
              "      <th>compound</th>\n",
              "      <th>comp_score</th>\n",
              "    </tr>\n",
              "  </thead>\n",
              "  <tbody>\n",
              "    <tr>\n",
              "      <th>1</th>\n",
              "      <td>ok nothing special charge diamond member hilto...</td>\n",
              "      <td>neg</td>\n",
              "      <td>{'neg': 0.11, 'neu': 0.701, 'pos': 0.189, 'com...</td>\n",
              "      <td>0.9787</td>\n",
              "      <td>pos</td>\n",
              "    </tr>\n",
              "    <tr>\n",
              "      <th>2</th>\n",
              "      <td>nice rooms not 4* experience hotel monaco seat...</td>\n",
              "      <td>neg</td>\n",
              "      <td>{'neg': 0.081, 'neu': 0.7, 'pos': 0.219, 'comp...</td>\n",
              "      <td>0.9889</td>\n",
              "      <td>pos</td>\n",
              "    </tr>\n",
              "    <tr>\n",
              "      <th>3</th>\n",
              "      <td>unique, great stay, wonderful time hotel monac...</td>\n",
              "      <td>pos</td>\n",
              "      <td>{'neg': 0.06, 'neu': 0.555, 'pos': 0.385, 'com...</td>\n",
              "      <td>0.9912</td>\n",
              "      <td>pos</td>\n",
              "    </tr>\n",
              "    <tr>\n",
              "      <th>4</th>\n",
              "      <td>great stay great stay, went seahawk game aweso...</td>\n",
              "      <td>pos</td>\n",
              "      <td>{'neg': 0.135, 'neu': 0.643, 'pos': 0.221, 'co...</td>\n",
              "      <td>0.9797</td>\n",
              "      <td>pos</td>\n",
              "    </tr>\n",
              "    <tr>\n",
              "      <th>10</th>\n",
              "      <td>poor value stayed monaco seattle july, nice ho...</td>\n",
              "      <td>neg</td>\n",
              "      <td>{'neg': 0.08, 'neu': 0.524, 'pos': 0.395, 'com...</td>\n",
              "      <td>0.9666</td>\n",
              "      <td>pos</td>\n",
              "    </tr>\n",
              "  </tbody>\n",
              "</table>\n",
              "</div>"
            ],
            "text/plain": [
              "                                               Review  ... comp_score\n",
              "1   ok nothing special charge diamond member hilto...  ...        pos\n",
              "2   nice rooms not 4* experience hotel monaco seat...  ...        pos\n",
              "3   unique, great stay, wonderful time hotel monac...  ...        pos\n",
              "4   great stay great stay, went seahawk game aweso...  ...        pos\n",
              "10  poor value stayed monaco seattle july, nice ho...  ...        pos\n",
              "\n",
              "[5 rows x 5 columns]"
            ]
          },
          "metadata": {
            "tags": []
          },
          "execution_count": 111
        }
      ]
    },
    {
      "cell_type": "code",
      "metadata": {
        "colab": {
          "base_uri": "https://localhost:8080/"
        },
        "id": "xZf96DWhr7AD",
        "outputId": "1b01d443-1adc-4a22-93f4-a455fb990a17"
      },
      "source": [
        "accuracy_score(data_b['Rating'],data_b['comp_score'])"
      ],
      "execution_count": 112,
      "outputs": [
        {
          "output_type": "execute_result",
          "data": {
            "text/plain": [
              "0.7157569515962925"
            ]
          },
          "metadata": {
            "tags": []
          },
          "execution_count": 112
        }
      ]
    },
    {
      "cell_type": "code",
      "metadata": {
        "colab": {
          "base_uri": "https://localhost:8080/"
        },
        "id": "wdIs-8jPsJgE",
        "outputId": "881c5a03-3b91-45ff-8e4d-cd7bd84c689a"
      },
      "source": [
        "print(classification_report(data_b['Rating'],data_b['comp_score']))"
      ],
      "execution_count": 113,
      "outputs": [
        {
          "output_type": "stream",
          "text": [
            "              precision    recall  f1-score   support\n",
            "\n",
            "         neg       0.91      0.48      0.63      5398\n",
            "         pos       0.64      0.95      0.77      5283\n",
            "\n",
            "    accuracy                           0.72     10681\n",
            "   macro avg       0.78      0.72      0.70     10681\n",
            "weighted avg       0.78      0.72      0.70     10681\n",
            "\n"
          ],
          "name": "stdout"
        }
      ]
    },
    {
      "cell_type": "code",
      "metadata": {
        "colab": {
          "base_uri": "https://localhost:8080/",
          "height": 390
        },
        "id": "1S2moqgUsMfS",
        "outputId": "cd7db5c6-dde8-433d-ebe4-1395718e30b9"
      },
      "source": [
        "import seaborn as sn\n",
        "classes = [\"neg\",\"pos\"]\n",
        "arr = confusion_matrix(data_b['Rating'],data_b['comp_score'])\n",
        "df_cm = pd.DataFrame(arr, classes, classes)\n",
        "plt.figure(figsize = (9,6))\n",
        "sn.heatmap(df_cm, annot=True, fmt=\"d\", cmap='BuGn')\n",
        "plt.xlabel(\"prediction\")\n",
        "plt.ylabel(\"label\")\n",
        "plt.show();"
      ],
      "execution_count": 117,
      "outputs": [
        {
          "output_type": "display_data",
          "data": {
            "image/png": "[encoded data removed]",
            "text/plain": [
              "<Figure size 648x432 with 2 Axes>"
            ]
          },
          "metadata": {
            "tags": [],
            "needs_background": "light"
          }
        }
      ]
    },
    {
      "cell_type": "code",
      "metadata": {
        "colab": {
          "base_uri": "https://localhost:8080/",
          "height": 1000
        },
        "id": "HeF2tpKQstvm",
        "outputId": "0c0fb84e-0844-4b96-c493-eb9ba7ea50b6"
      },
      "source": [
        "#where it got confused\n",
        "confusing_reviews = data_b[(data_b['Rating'] == \"neg\") & (data_b['comp_score'] == \"pos\") ]\n",
        "pd.set_option('display.max_colwidth', 0)\n",
        "confusing_reviews"
      ],
      "execution_count": 121,
      "outputs": [
        {
          "output_type": "execute_result",
          "data": {
            "text/html": [
              "<div>\n",
              "<style scoped>\n",
              "    .dataframe tbody tr th:only-of-type {\n",
              "        vertical-align: middle;\n",
              "    }\n",
              "\n",
              "    .dataframe tbody tr th {\n",
              "        vertical-align: top;\n",
              "    }\n",
              "\n",
              "    .dataframe thead th {\n",
              "        text-align: right;\n",
              "    }\n",
              "</style>\n",
              "<table border=\"1\" class=\"dataframe\">\n",
              "  <thead>\n",
              "    <tr style=\"text-align: right;\">\n",
              "      <th></th>\n",
              "      <th>Review</th>\n",
              "      <th>Rating</th>\n",
              "      <th>scores</th>\n",
              "      <th>compound</th>\n",
              "      <th>comp_score</th>\n",
              "    </tr>\n",
              "  </thead>\n",
              "  <tbody>\n",
              "    <tr>\n",
              "      <th>1</th>\n",
              "      <td>ok nothing special charge diamond member hilton decided chain shot 20th anniversary seattle, start booked suite paid extra website description not, suite bedroom bathroom standard hotel room, took printed reservation desk showed said things like tv couch ect desk clerk told oh mixed suites description kimpton website sorry free breakfast, got kidding, embassy suits sitting room bathroom bedroom unlike kimpton calls suite, 5 day stay offer correct false advertising, send kimpton preferred guest website email asking failure provide suite advertised website reservation description furnished hard copy reservation printout website desk manager duty did not reply solution, send email trip guest survey did not follow email mail, guess tell concerned guest.the staff ranged indifferent not helpful, asked desk good breakfast spots neighborhood hood told no hotels, gee best breakfast spots seattle 1/2 block away convenient hotel does not know exist, arrived late night 11 pm inside run bellman busy chating cell phone help bags.prior arrival emailed hotel inform 20th anniversary half really picky wanted make sure good, got nice email saying like deliver bottle champagne chocolate covered strawberries room arrival celebrate, told needed foam pillows, arrival no champagne strawberries no foam pillows great room view alley high rise building good not better housekeeping staff cleaner room property, impressed left morning shopping room got short trips 2 hours, beds comfortable.not good ac-heat control 4 x 4 inch screen bring green shine directly eyes night, light sensitive tape controls.this not 4 start hotel clean business hotel super high rates, better chain hotels seattle,</td>\n",
              "      <td>neg</td>\n",
              "      <td>{'neg': 0.11, 'neu': 0.701, 'pos': 0.189, 'compound': 0.9787}</td>\n",
              "      <td>0.9787</td>\n",
              "      <td>pos</td>\n",
              "    </tr>\n",
              "    <tr>\n",
              "      <th>2</th>\n",
              "      <td>nice rooms not 4* experience hotel monaco seattle good hotel n't 4* level.positives large bathroom mediterranean suite comfortable bed pillowsattentive housekeeping staffnegatives ac unit malfunctioned stay desk disorganized, missed 3 separate wakeup calls, concierge busy hard touch, did n't provide guidance special requests.tv hard use ipod sound dock suite non functioning. decided book mediterranean suite 3 night weekend stay 1st choice rest party filled, comparison w spent 45 night larger square footage room great soaking tub whirlpool jets nice shower.before stay hotel arrange car service price 53 tip reasonable driver waiting arrival.checkin easy downside room picked 2 person jacuzi tub no bath accessories salts bubble bath did n't stay, night got 12/1a checked voucher bottle champagne nice gesture fish waiting room, impression room huge open space felt room big, tv far away bed chore change channel, ipod dock broken disappointing.in morning way asked desk check thermostat said 65f 74 2 degrees warm try cover face night bright blue light kept, got room night no, 1st drop desk, called maintainence came look thermostat told play settings happy digital box wo n't work, asked wakeup 10am morning did n't happen, called later 6pm nap wakeup forgot, 10am wakeup morning yep forgotten.the bathroom facilities great room surprised room sold whirlpool bath tub n't bath amenities, great relax water jets going,</td>\n",
              "      <td>neg</td>\n",
              "      <td>{'neg': 0.081, 'neu': 0.7, 'pos': 0.219, 'compound': 0.9889}</td>\n",
              "      <td>0.9889</td>\n",
              "      <td>pos</td>\n",
              "    </tr>\n",
              "    <tr>\n",
              "      <th>10</th>\n",
              "      <td>poor value stayed monaco seattle july, nice hotel priced 100- 150 night not, hotel takes beating quotient, experience simply average, nothing exceptional paying 300+ n't ca n't terribly disappointed, wife stayed nicest suites 200/night felt like overpaying, best advice shop, quality-wise league average marriott nice best western,</td>\n",
              "      <td>neg</td>\n",
              "      <td>{'neg': 0.08, 'neu': 0.524, 'pos': 0.395, 'compound': 0.9666}</td>\n",
              "      <td>0.9666</td>\n",
              "      <td>pos</td>\n",
              "    </tr>\n",
              "    <tr>\n",
              "      <th>15</th>\n",
              "      <td>horrible customer service hotel stay february 3rd 4th 2007my friend picked hotel monaco appealing website online package included champagne late checkout 3 free valet gift spa weekend, friend checked room hours earlier came later, pulled valet young man just stood, asked valet open said, pull bags didn__Ç_é_ offer help, got garment bag suitcase came car key room number says not valet, car park car street pull, left key working asked valet park car gets, went room fine bottle champagne oil lotion gift spa, dressed went came got bed noticed blood drops pillows sheets pillows, disgusted just unbelievable, called desk sent somebody 20 minutes later, swapped sheets left apologizing, sunday morning called desk speak management sheets aggravated rude, apparently no manager kind supervisor weekend wait monday morning, young man spoke said cover food adding person changed sheets said fresh blood rude tone, checkout 3pm package booked, 12 1:30 staff maids tried walk room opening door apologizing closing, people called saying check 12 remind package, finally packed things went downstairs check, quickly signed paper took, way took closer look room, unfortunately covered food offered charged valet, called desk ask charges lady answered snapped saying aware problem experienced monday like told earlier, life treated like hotel, not sure hotel constantly problems lucky ones stay recommend anybody know,</td>\n",
              "      <td>neg</td>\n",
              "      <td>{'neg': 0.132, 'neu': 0.701, 'pos': 0.167, 'compound': 0.8496}</td>\n",
              "      <td>0.8496</td>\n",
              "      <td>pos</td>\n",
              "    </tr>\n",
              "    <tr>\n",
              "      <th>16</th>\n",
              "      <td>disappointed say anticipating stay hotel monaco based reviews seen tripadvisor, definitely disppointment, decor room hotel envisioned nice, housekeeping staff impressive extremely polite cheery helpful, desk bellmen standard customer service, lots little things easily overlooked broken make mirror sagging post bathroom jiggly entrance handle room did n't feel secure handle nearly falling door, husband early morning flight mid-week asked cab called, suggested cab ride cost double private car flat-rate n't case, knew cost cab 30 car 38 bell staff insisted like 65 taxi ride, cab driver later explained bell staff kick referrals, preferred guests city and/or hotel hotel staff looking best interests, new years planned dining restaurant hotel new year day, came dressed dinner told desk closed holiday, asked nearby response good luck finding today, good luck, thanks help, feature needed hotel business centre work, downstairs service completely semi-funcitional, internet service out-sourced ended spending 50 money n't work no refund 2.5 hours vacation time trouble-shooting internet company toll free service line, asked desk times assistance told, worst experience time asked desk assistance got response included shrug say oh bad, majority staff attitude just simply did not care needed help dared intrude time got snotty response, occasions caught desk girls smirking thought turned n't, talk frustrating, honesty n't wait check, nice decor liked goldfish housekeeping staff great end hotel want dash door n't way not concerned taking greet pretty ignored desk area unless approached, time street westin, saw nothing smiling faces coming going hotel,</td>\n",
              "      <td>neg</td>\n",
              "      <td>{'neg': 0.096, 'neu': 0.668, 'pos': 0.236, 'compound': 0.9905}</td>\n",
              "      <td>0.9905</td>\n",
              "      <td>pos</td>\n",
              "    </tr>\n",
              "    <tr>\n",
              "      <th>...</th>\n",
              "      <td>...</td>\n",
              "      <td>...</td>\n",
              "      <td>...</td>\n",
              "      <td>...</td>\n",
              "      <td>...</td>\n",
              "    </tr>\n",
              "    <tr>\n",
              "      <th>20446</th>\n",
              "      <td>ok short stay booked hotel night stopover, singapore stopover transfer included wait half hour bus arrive took hour drive peak hour, hotel room small bed filling room, curtains not dark room lit night, bathroom tiny clean, walked tiong bahru food market nearby 2 mins dinner great best thing location.the hotel forgot wake resulted missed flight, manager lovely offered free breakfast good compensation given turned ok. missed flight things wouldnt pleasant.overall fine night business way small spend time room especially person, im not sure size rooms available,</td>\n",
              "      <td>neg</td>\n",
              "      <td>{'neg': 0.075, 'neu': 0.686, 'pos': 0.239, 'compound': 0.9609}</td>\n",
              "      <td>0.9609</td>\n",
              "      <td>pos</td>\n",
              "    </tr>\n",
              "    <tr>\n",
              "      <th>20460</th>\n",
              "      <td>june 08 stay stayed hotel june 6/6-6/8/08, read reviews website stating loud weekends travel san juan r r wanted new kid block try, hotel beautiful, pools small beach nice, staff friendly especially caribbean standards live caribbean, rooms large stayed ocean view room completely gorgeous, say completely shocked loud music really weekends, resort expected resort amenites believe building spa charge resort fees, management justify charging rates cant sleep party lobby/pool stops, hotel built u shape, walk lobby opens pool pool rooms left street ocean view right, music amplified like mini arena.i want stay hotel rooms nice noise level probably el san juan hilton isla verde,</td>\n",
              "      <td>neg</td>\n",
              "      <td>{'neg': 0.078, 'neu': 0.74, 'pos': 0.182, 'compound': 0.9108}</td>\n",
              "      <td>0.9108</td>\n",
              "      <td>pos</td>\n",
              "    </tr>\n",
              "    <tr>\n",
              "      <th>20479</th>\n",
              "      <td>lack customer service skills overpriced place online reservation party booking like, just staying night sharing room friends, arrived politely greeted, reservation 4 persons confirmation letter, asked guests told 4 said extra guest cost 20.00 person night, rate 150.00 room 2 double beds, told reservation 4 persons said said 2 persons, went ahead took room, time nobody told parking ask, given key garage told 50 lost key 100 sunday left car garage closed sundays, nothing said parking, left went ball game returning late evening, received keys went extremely small room, walked view brick building door, room clean, checked morning asked rate produced confirmation letter, told getting best rate available party booking company, questioned charge parking, told 18.00 park garage, told told manager insisted person checking told, told checked told key charged garage parking, told tells guests manager, not work price told parking fee confirmation letter showed 4 persons, turn ended paying 240.00 room budget motel, breakfast leaves desired, floor filthy food food not stocked counters dirty staff sitting counter talking, walked corner tullys instead.i stay motel, having worked hotels past 7 years not know guests, treated guest business, recommend customer service training.we stay tell people experience, definately not expected best western.we gave 2 clean,</td>\n",
              "      <td>neg</td>\n",
              "      <td>{'neg': 0.035, 'neu': 0.8, 'pos': 0.165, 'compound': 0.9816}</td>\n",
              "      <td>0.9816</td>\n",
              "      <td>pos</td>\n",
              "    </tr>\n",
              "    <tr>\n",
              "      <th>20481</th>\n",
              "      <td>ok price look hotel ok little run average cleanliness chose price seattle quite expensive, did n't room/bed reserved staff unhelpful, best westerns used nice hotels does n't fit mold, choose different hotel probably expensive time visit seattle,</td>\n",
              "      <td>neg</td>\n",
              "      <td>{'neg': 0.046, 'neu': 0.703, 'pos': 0.25, 'compound': 0.8515}</td>\n",
              "      <td>0.8515</td>\n",
              "      <td>pos</td>\n",
              "    </tr>\n",
              "    <tr>\n",
              "      <th>20489</th>\n",
              "      <td>hotel theft ruined vacation hotel opened sept 17 2007 guests week, happy stumble scouting hotels apt stay booked gobcn- commented post unexpectedly cancelled arrival stuck place stay la merce festival barcelona biggest year, like trying hotel times square new year eve, vacancies hotel 1. new 2. not ready guests, new, hotel towels straight factory not washed pilling shower, not ready, entire week sept 21 28 slept proper blanket comforter n't arrived, got chilly night gave fleece throw supplied sister hotel ciutat barcelona hotel lime green colour scheme red black white spare cold, drawback double beds singles adjoined n't bothered hotels linens separately fish sheets order sleep couple fall lie middle, beds hard firm so-so quality foam pillows, best qualities hotel location close las ramblas hear street noise somewhat walkable attractions bari gottic, designed clean stylish hotel not clean 10 rooms construction things like cement drippings not scraped linoleum floor room etc., importantly room safe not securely bolted floor.i travel cash coming korea unfavorable exchange rate preferred not use canadian visa card unsure korean credit cards work overseas turns did husband did n't, carried moneybelt time life like heard barcelona petty theft problems witnessing mass humanity las ramblas wallet separated person blink eye, saw hotel safe stored money explicitly advised hotel security briefing form given guests check-in use hotel safe not leave valuable objects large cash room, no central safe reception meant use safe room, day stay discovered contents hotel room safe missing, n't open lock code n't working, receptionist came master code unlocked safe gone, 1,700 euros husband passport missing, incredibly shocked shaken, hours police report investigation staff fingerprinted room brushed fingerprints, later discovered guest fake belgian passport invalid credit card adjoining room broken terrace not room room room steal bag day prior, came room unbolted shelving safe bolted dragged shelf safe room dragged shelf safe, switched safes, used rolling carry-on bag stole room carry safe, talk ingenious crime.we suffered not theft aftermath primarily dealing hotel manager manages ciutat barcelona hotel not elusive refused meet person accessible telephone staff evasive compensated, end says expedited insurance process euros returned finally day departure barcelona going venice weekend waiting usually 2 month-long process grateful not compensate costs recovering passport husband nationality korean going consulate barcelona discover honorary does n't issue passports informed embassy madrid new temporary passport traveled madrid train day 9 hour+ return trip wasted day insurance cover stolen money said.after theft shaken no energy appetite tour sights wanted gaudi buildings park guell forever teenager planned months trip husband week year notoriously short korean vacations managed link weekends time vacation time particularly precious squeezed day, belongings felt secure hotel thereafter.they gave cheque compensating lost euros signing document spanish indemnified claims, did n't want sign document said n't cheque, needed cash point basically blackmailed signing document.to add insult injury checking informed hotel payable robbery thing hotel, balked offered 25 reduction, refused threatened police not paying hotel, unbelievable, think hotel extremely apologetic offer no charge stay night 3 days trip absolutely ruined, told gladly paid entirety hotel trip went just planned incident caused hotel negligence lack security flimsy locks not checking guests properly not informing guests room theft completely marred stay barcelona, said pay room theft occurred compensated costs recovering husband passport, reiterated insurance covered lost money n't true usually insurance cover entire contents no, guests stolen bag surely receive reimbursement insurance company, plan pursue hotel wonder vain real stickler did n't responsibility liability n't fault guest, unlucky., end plane catch paid nights robbery gladly left hotel.incredibly attests petty crime problem barcelona absolutely beautiful city hotel guest room got bag stolen restaurant chair eating dinner, shaken accompanied police station file report, returned hotel n't fixed phone connection needed contact family boyfriend germany appeared unsympathetic, problems wi-fi connection, theft staff fine save manager professional apologetic theft, manager offered weakest apology night occured hard-line meant lot met face face, minimum heartfelt apology opinion.in mossos d'esquadra barcelona police young undercover vigilant excellent thorough impressive, got story theft bit bit uncovered things not hotel gave news, opposed random pickpocketing problem barcelona working hard resolve n't want lose tourists affects barcelonins treated crime quite seriously appeared inside job.all incredibly sad disappointing frustrating experience, hotel reacted affected things great deal stand proper felt free actually tour sights incident knowing working hard recover loss instead feeling insecure victimized.this hotel clearly not ready guests opened security properly established, cctv cameras helpful not entrance affixed terrace building, night area hopping wee hours c. tallers hotel located brightly lit deter muggings 4 star hotels corner.one receptionists said hotel overpriced 3 star hotel paying location newness minimalist style hotel, said walks 40 euros pocket.there wealth good hotel rooms apt stay opportunities barcelona city fabulous encourage seek,</td>\n",
              "      <td>neg</td>\n",
              "      <td>{'neg': 0.15, 'neu': 0.671, 'pos': 0.179, 'compound': 0.9867}</td>\n",
              "      <td>0.9867</td>\n",
              "      <td>pos</td>\n",
              "    </tr>\n",
              "  </tbody>\n",
              "</table>\n",
              "<p>2783 rows × 5 columns</p>\n",
              "</div>"
            ],
            "text/plain": [
              "                                                                                                                                                                                                                                                                                                                                                                                                                                                                                                                                                                                                                                                                                                                                                                                                                                                                                                                                                                                                                                                                                                                                                                                                                                                                                                                                                                                                                                                                                                                                                                                                                                                                                                                                                                                                                                                                                                                                                                                                                                                                                                                                                                                                                                                                                                                                                                                                                                                                                                                                                                                                                                                                                                                                                                                                                                                                                                                                                                                                                                                                                                                                                                                                                                                                                                                                                                                                                                                                                                                                                                                                                                                                                                                                                                                                                                                                                                                                                                                                                                                                                                                                                                                                                                                                                                                                                                                                                                                                                                                                                                                                                                                                                                                                                                                                                                                                                                                                                                                                                                                                                                                                                                                                                                                                                                                                                                                                                                                                                                                                                                                                                                                                                                                                                                                      Review  ... comp_score\n",
              "1      ok nothing special charge diamond member hilton decided chain shot 20th anniversary seattle, start booked suite paid extra website description not, suite bedroom bathroom standard hotel room, took printed reservation desk showed said things like tv couch ect desk clerk told oh mixed suites description kimpton website sorry free breakfast, got kidding, embassy suits sitting room bathroom bedroom unlike kimpton calls suite, 5 day stay offer correct false advertising, send kimpton preferred guest website email asking failure provide suite advertised website reservation description furnished hard copy reservation printout website desk manager duty did not reply solution, send email trip guest survey did not follow email mail, guess tell concerned guest.the staff ranged indifferent not helpful, asked desk good breakfast spots neighborhood hood told no hotels, gee best breakfast spots seattle 1/2 block away convenient hotel does not know exist, arrived late night 11 pm inside run bellman busy chating cell phone help bags.prior arrival emailed hotel inform 20th anniversary half really picky wanted make sure good, got nice email saying like deliver bottle champagne chocolate covered strawberries room arrival celebrate, told needed foam pillows, arrival no champagne strawberries no foam pillows great room view alley high rise building good not better housekeeping staff cleaner room property, impressed left morning shopping room got short trips 2 hours, beds comfortable.not good ac-heat control 4 x 4 inch screen bring green shine directly eyes night, light sensitive tape controls.this not 4 start hotel clean business hotel super high rates, better chain hotels seattle,                                                                                                                                                                                                                                                                                                                                                                                                                                                                                                                                                                                                                                                                                                                                                                                                                                                                                                                                                                                                                                                                                                                                                                                                                                                                                                                                                                                                                                                                                                                                                                                                                                                                                                                                                                                                                                                                                                                                                                                                                                                                                                                                                                                                                                                                                                                                                                                                                                                                                                                                                                                                                                                                                                                                                                                                                                                                                                                                                                                                                                                                                                                                                                                                                                                                                                                                                                                                                                                                                                                                                                                                                                                                                                                                                                                                                                                                                                                                                                                                                                ...  pos      \n",
              "2      nice rooms not 4* experience hotel monaco seattle good hotel n't 4* level.positives large bathroom mediterranean suite comfortable bed pillowsattentive housekeeping staffnegatives ac unit malfunctioned stay desk disorganized, missed 3 separate wakeup calls, concierge busy hard touch, did n't provide guidance special requests.tv hard use ipod sound dock suite non functioning. decided book mediterranean suite 3 night weekend stay 1st choice rest party filled, comparison w spent 45 night larger square footage room great soaking tub whirlpool jets nice shower.before stay hotel arrange car service price 53 tip reasonable driver waiting arrival.checkin easy downside room picked 2 person jacuzi tub no bath accessories salts bubble bath did n't stay, night got 12/1a checked voucher bottle champagne nice gesture fish waiting room, impression room huge open space felt room big, tv far away bed chore change channel, ipod dock broken disappointing.in morning way asked desk check thermostat said 65f 74 2 degrees warm try cover face night bright blue light kept, got room night no, 1st drop desk, called maintainence came look thermostat told play settings happy digital box wo n't work, asked wakeup 10am morning did n't happen, called later 6pm nap wakeup forgot, 10am wakeup morning yep forgotten.the bathroom facilities great room surprised room sold whirlpool bath tub n't bath amenities, great relax water jets going,                                                                                                                                                                                                                                                                                                                                                                                                                                                                                                                                                                                                                                                                                                                                                                                                                                                                                                                                                                                                                                                                                                                                                                                                                                                                                                                                                                                                                                                                                                                                                                                                                                                                                                                                                                                                                                                                                                                                                                                                                                                                                                                                                                                                                                                                                                                                                                                                                                                                                                                                                                                                                                                                                                                                                                                                                                                                                                                                                                                                                                                                                                                                                                                                                                                                                                                                                                                                                                                                                                                                                                                                                                                                                                                                                                                                                                                                                                                                                                                                                                                                                                                                                                                                                                                                                                      ...  pos      \n",
              "10     poor value stayed monaco seattle july, nice hotel priced 100- 150 night not, hotel takes beating quotient, experience simply average, nothing exceptional paying 300+ n't ca n't terribly disappointed, wife stayed nicest suites 200/night felt like overpaying, best advice shop, quality-wise league average marriott nice best western,                                                                                                                                                                                                                                                                                                                                                                                                                                                                                                                                                                                                                                                                                                                                                                                                                                                                                                                                                                                                                                                                                                                                                                                                                                                                                                                                                                                                                                                                                                                                                                                                                                                                                                                                                                                                                                                                                                                                                                                                                                                                                                                                                                                                                                                                                                                                                                                                                                                                                                                                                                                                                                                                                                                                                                                                                                                                                                                                                                                                                                                                                                                                                                                                                                                                                                                                                                                                                                                                                                                                                                                                                                                                                                                                                                                                                                                                                                                                                                                                                                                                                                                                                                                                                                                                                                                                                                                                                                                                                                                                                                                                                                                                                                                                                                                                                                                                                                                                                                                                                                                                                                                                                                                                                                                                                                                                                                                                                                            ...  pos      \n",
              "15     horrible customer service hotel stay february 3rd 4th 2007my friend picked hotel monaco appealing website online package included champagne late checkout 3 free valet gift spa weekend, friend checked room hours earlier came later, pulled valet young man just stood, asked valet open said, pull bags didn__Ç_é_ offer help, got garment bag suitcase came car key room number says not valet, car park car street pull, left key working asked valet park car gets, went room fine bottle champagne oil lotion gift spa, dressed went came got bed noticed blood drops pillows sheets pillows, disgusted just unbelievable, called desk sent somebody 20 minutes later, swapped sheets left apologizing, sunday morning called desk speak management sheets aggravated rude, apparently no manager kind supervisor weekend wait monday morning, young man spoke said cover food adding person changed sheets said fresh blood rude tone, checkout 3pm package booked, 12 1:30 staff maids tried walk room opening door apologizing closing, people called saying check 12 remind package, finally packed things went downstairs check, quickly signed paper took, way took closer look room, unfortunately covered food offered charged valet, called desk ask charges lady answered snapped saying aware problem experienced monday like told earlier, life treated like hotel, not sure hotel constantly problems lucky ones stay recommend anybody know,                                                                                                                                                                                                                                                                                                                                                                                                                                                                                                                                                                                                                                                                                                                                                                                                                                                                                                                                                                                                                                                                                                                                                                                                                                                                                                                                                                                                                                                                                                                                                                                                                                                                                                                                                                                                                                                                                                                                                                                                                                                                                                                                                                                                                                                                                                                                                                                                                                                                                                                                                                                                                                                                                                                                                                                                                                                                                                                                                                                                                                                                                                                                                                                                                                                                                                                                                                                                                                                                                                                                                                                                                                                                                                                                                                                                                                                                                                                                                                                                                                                                                                                                                                                                                                                                                                                      ...  pos      \n",
              "16     disappointed say anticipating stay hotel monaco based reviews seen tripadvisor, definitely disppointment, decor room hotel envisioned nice, housekeeping staff impressive extremely polite cheery helpful, desk bellmen standard customer service, lots little things easily overlooked broken make mirror sagging post bathroom jiggly entrance handle room did n't feel secure handle nearly falling door, husband early morning flight mid-week asked cab called, suggested cab ride cost double private car flat-rate n't case, knew cost cab 30 car 38 bell staff insisted like 65 taxi ride, cab driver later explained bell staff kick referrals, preferred guests city and/or hotel hotel staff looking best interests, new years planned dining restaurant hotel new year day, came dressed dinner told desk closed holiday, asked nearby response good luck finding today, good luck, thanks help, feature needed hotel business centre work, downstairs service completely semi-funcitional, internet service out-sourced ended spending 50 money n't work no refund 2.5 hours vacation time trouble-shooting internet company toll free service line, asked desk times assistance told, worst experience time asked desk assistance got response included shrug say oh bad, majority staff attitude just simply did not care needed help dared intrude time got snotty response, occasions caught desk girls smirking thought turned n't, talk frustrating, honesty n't wait check, nice decor liked goldfish housekeeping staff great end hotel want dash door n't way not concerned taking greet pretty ignored desk area unless approached, time street westin, saw nothing smiling faces coming going hotel,                                                                                                                                                                                                                                                                                                                                                                                                                                                                                                                                                                                                                                                                                                                                                                                                                                                                                                                                                                                                                                                                                                                                                                                                                                                                                                                                                                                                                                                                                                                                                                                                                                                                                                                                                                                                                                                                                                                                                                                                                                                                                                                                                                                                                                                                                                                                                                                                                                                                                                                                                                                                                                                                                                                                                                                                                                                                                                                                                                                                                                                                                                                                                                                                                                                                                                                                                                                                                                                                                                                                                                                                                                                                                                                                                                                                                                                                                                                                                                                                                                                           ...  pos      \n",
              "...                                                                                                                                                                                                                                                                                                                                                                                                                                                                                                                                                                                                                                                                                                                                                                                                                                                                                                                                                                                                                                                                                                                                                                                                                                                                                                                                                                                                                                                                                                                                                                                                                                                                                                                               ...                                                                                                                                                                                                                                                                                                                                                                                                                                                                                                                                                                                                                                                                                                                                                                                                                                                                                                                                                                                                                                                                                                                                                                                                                                                                                                                                                                                                                                                                                                                                                                                                                                                                                                                                                                                                                                                                                                                                                                                                                                                                                                                                                                                                                                                                                                                                                                                                                                                                                                                                                                                                                                                                                                                                                                                                                                                                                                                                                                                                                                                                                                                                                                                                                                                                                                                                                                                                                                                                                                                                                                                                                                                                                                                                                                                                                                                                                                                                                                                                                                                         ...  ...      \n",
              "20446  ok short stay booked hotel night stopover, singapore stopover transfer included wait half hour bus arrive took hour drive peak hour, hotel room small bed filling room, curtains not dark room lit night, bathroom tiny clean, walked tiong bahru food market nearby 2 mins dinner great best thing location.the hotel forgot wake resulted missed flight, manager lovely offered free breakfast good compensation given turned ok. missed flight things wouldnt pleasant.overall fine night business way small spend time room especially person, im not sure size rooms available,                                                                                                                                                                                                                                                                                                                                                                                                                                                                                                                                                                                                                                                                                                                                                                                                                                                                                                                                                                                                                                                                                                                                                                                                                                                                                                                                                                                                                                                                                                                                                                                                                                                                                                                                                                                                                                                                                                                                                                                                                                                                                                                                                                                                                                                                                                                                                                                                                                                                                                                                                                                                                                                                                                                                                                                                                                                                                                                                                                                                                                                                                                                                                                                                                                                                                                                                                                                                                                                                                                                                                                                                                                                                                                                                                                                                                                                                                                                                                                                                                                                                                                                                                                                                                                                                                                                                                                                                                                                                                                                                                                                                                                                                                                                                                                                                                                                                                                                                                                                                                                                                                                                                                                                                   ...  pos      \n",
              "20460  june 08 stay stayed hotel june 6/6-6/8/08, read reviews website stating loud weekends travel san juan r r wanted new kid block try, hotel beautiful, pools small beach nice, staff friendly especially caribbean standards live caribbean, rooms large stayed ocean view room completely gorgeous, say completely shocked loud music really weekends, resort expected resort amenites believe building spa charge resort fees, management justify charging rates cant sleep party lobby/pool stops, hotel built u shape, walk lobby opens pool pool rooms left street ocean view right, music amplified like mini arena.i want stay hotel rooms nice noise level probably el san juan hilton isla verde,                                                                                                                                                                                                                                                                                                                                                                                                                                                                                                                                                                                                                                                                                                                                                                                                                                                                                                                                                                                                                                                                                                                                                                                                                                                                                                                                                                                                                                                                                                                                                                                                                                                                                                                                                                                                                                                                                                                                                                                                                                                                                                                                                                                                                                                                                                                                                                                                                                                                                                                                                                                                                                                                                                                                                                                                                                                                                                                                                                                                                                                                                                                                                                                                                                                                                                                                                                                                                                                                                                                                                                                                                                                                                                                                                                                                                                                                                                                                                                                                                                                                                                                                                                                                                                                                                                                                                                                                                                                                                                                                                                                                                                                                                                                                                                                                                                                                                                                                                                                                                                                                               ...  pos      \n",
              "20479  lack customer service skills overpriced place online reservation party booking like, just staying night sharing room friends, arrived politely greeted, reservation 4 persons confirmation letter, asked guests told 4 said extra guest cost 20.00 person night, rate 150.00 room 2 double beds, told reservation 4 persons said said 2 persons, went ahead took room, time nobody told parking ask, given key garage told 50 lost key 100 sunday left car garage closed sundays, nothing said parking, left went ball game returning late evening, received keys went extremely small room, walked view brick building door, room clean, checked morning asked rate produced confirmation letter, told getting best rate available party booking company, questioned charge parking, told 18.00 park garage, told told manager insisted person checking told, told checked told key charged garage parking, told tells guests manager, not work price told parking fee confirmation letter showed 4 persons, turn ended paying 240.00 room budget motel, breakfast leaves desired, floor filthy food food not stocked counters dirty staff sitting counter talking, walked corner tullys instead.i stay motel, having worked hotels past 7 years not know guests, treated guest business, recommend customer service training.we stay tell people experience, definately not expected best western.we gave 2 clean,                                                                                                                                                                                                                                                                                                                                                                                                                                                                                                                                                                                                                                                                                                                                                                                                                                                                                                                                                                                                                                                                                                                                                                                                                                                                                                                                                                                                                                                                                                                                                                                                                                                                                                                                                                                                                                                                                                                                                                                                                                                                                                                                                                                                                                                                                                                                                                                                                                                                                                                                                                                                                                                                                                                                                                                                                                                                                                                                                                                                                                                                                                                                                                                                                                                                                                                                                                                                                                                                                                                                                                                                                                                                                                                                                                                                                                                                                                                                                                                                                                                                                                                                                                                                                                                                                                                                                                   ...  pos      \n",
              "20481  ok price look hotel ok little run average cleanliness chose price seattle quite expensive, did n't room/bed reserved staff unhelpful, best westerns used nice hotels does n't fit mold, choose different hotel probably expensive time visit seattle,                                                                                                                                                                                                                                                                                                                                                                                                                                                                                                                                                                                                                                                                                                                                                                                                                                                                                                                                                                                                                                                                                                                                                                                                                                                                                                                                                                                                                                                                                                                                                                                                                                                                                                                                                                                                                                                                                                                                                                                                                                                                                                                                                                                                                                                                                                                                                                                                                                                                                                                                                                                                                                                                                                                                                                                                                                                                                                                                                                                                                                                                                                                                                                                                                                                                                                                                                                                                                                                                                                                                                                                                                                                                                                                                                                                                                                                                                                                                                                                                                                                                                                                                                                                                                                                                                                                                                                                                                                                                                                                                                                                                                                                                                                                                                                                                                                                                                                                                                                                                                                                                                                                                                                                                                                                                                                                                                                                                                                                                                                                                  ...  pos      \n",
              "20489  hotel theft ruined vacation hotel opened sept 17 2007 guests week, happy stumble scouting hotels apt stay booked gobcn- commented post unexpectedly cancelled arrival stuck place stay la merce festival barcelona biggest year, like trying hotel times square new year eve, vacancies hotel 1. new 2. not ready guests, new, hotel towels straight factory not washed pilling shower, not ready, entire week sept 21 28 slept proper blanket comforter n't arrived, got chilly night gave fleece throw supplied sister hotel ciutat barcelona hotel lime green colour scheme red black white spare cold, drawback double beds singles adjoined n't bothered hotels linens separately fish sheets order sleep couple fall lie middle, beds hard firm so-so quality foam pillows, best qualities hotel location close las ramblas hear street noise somewhat walkable attractions bari gottic, designed clean stylish hotel not clean 10 rooms construction things like cement drippings not scraped linoleum floor room etc., importantly room safe not securely bolted floor.i travel cash coming korea unfavorable exchange rate preferred not use canadian visa card unsure korean credit cards work overseas turns did husband did n't, carried moneybelt time life like heard barcelona petty theft problems witnessing mass humanity las ramblas wallet separated person blink eye, saw hotel safe stored money explicitly advised hotel security briefing form given guests check-in use hotel safe not leave valuable objects large cash room, no central safe reception meant use safe room, day stay discovered contents hotel room safe missing, n't open lock code n't working, receptionist came master code unlocked safe gone, 1,700 euros husband passport missing, incredibly shocked shaken, hours police report investigation staff fingerprinted room brushed fingerprints, later discovered guest fake belgian passport invalid credit card adjoining room broken terrace not room room room steal bag day prior, came room unbolted shelving safe bolted dragged shelf safe room dragged shelf safe, switched safes, used rolling carry-on bag stole room carry safe, talk ingenious crime.we suffered not theft aftermath primarily dealing hotel manager manages ciutat barcelona hotel not elusive refused meet person accessible telephone staff evasive compensated, end says expedited insurance process euros returned finally day departure barcelona going venice weekend waiting usually 2 month-long process grateful not compensate costs recovering passport husband nationality korean going consulate barcelona discover honorary does n't issue passports informed embassy madrid new temporary passport traveled madrid train day 9 hour+ return trip wasted day insurance cover stolen money said.after theft shaken no energy appetite tour sights wanted gaudi buildings park guell forever teenager planned months trip husband week year notoriously short korean vacations managed link weekends time vacation time particularly precious squeezed day, belongings felt secure hotel thereafter.they gave cheque compensating lost euros signing document spanish indemnified claims, did n't want sign document said n't cheque, needed cash point basically blackmailed signing document.to add insult injury checking informed hotel payable robbery thing hotel, balked offered 25 reduction, refused threatened police not paying hotel, unbelievable, think hotel extremely apologetic offer no charge stay night 3 days trip absolutely ruined, told gladly paid entirety hotel trip went just planned incident caused hotel negligence lack security flimsy locks not checking guests properly not informing guests room theft completely marred stay barcelona, said pay room theft occurred compensated costs recovering husband passport, reiterated insurance covered lost money n't true usually insurance cover entire contents no, guests stolen bag surely receive reimbursement insurance company, plan pursue hotel wonder vain real stickler did n't responsibility liability n't fault guest, unlucky., end plane catch paid nights robbery gladly left hotel.incredibly attests petty crime problem barcelona absolutely beautiful city hotel guest room got bag stolen restaurant chair eating dinner, shaken accompanied police station file report, returned hotel n't fixed phone connection needed contact family boyfriend germany appeared unsympathetic, problems wi-fi connection, theft staff fine save manager professional apologetic theft, manager offered weakest apology night occured hard-line meant lot met face face, minimum heartfelt apology opinion.in mossos d'esquadra barcelona police young undercover vigilant excellent thorough impressive, got story theft bit bit uncovered things not hotel gave news, opposed random pickpocketing problem barcelona working hard resolve n't want lose tourists affects barcelonins treated crime quite seriously appeared inside job.all incredibly sad disappointing frustrating experience, hotel reacted affected things great deal stand proper felt free actually tour sights incident knowing working hard recover loss instead feeling insecure victimized.this hotel clearly not ready guests opened security properly established, cctv cameras helpful not entrance affixed terrace building, night area hopping wee hours c. tallers hotel located brightly lit deter muggings 4 star hotels corner.one receptionists said hotel overpriced 3 star hotel paying location newness minimalist style hotel, said walks 40 euros pocket.there wealth good hotel rooms apt stay opportunities barcelona city fabulous encourage seek,    ...  pos      \n",
              "\n",
              "[2783 rows x 5 columns]"
            ]
          },
          "metadata": {
            "tags": []
          },
          "execution_count": 121
        }
      ]
    }
  ]
}